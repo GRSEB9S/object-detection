{
 "cells": [
  {
   "cell_type": "code",
   "execution_count": 151,
   "metadata": {
    "collapsed": false
   },
   "outputs": [],
   "source": [
    "import mxnet as mx\n",
    "from collections import namedtuple\n",
    "import cv2\n",
    "import os, urllib\n",
    "import numpy as np\n",
    "\n",
    "def save_net(model, prefix):\n",
    "    model.save_params(prefix+'-0001.params')\n",
    "    model.symbol.save(prefix+'-symbol.json')\n",
    "    \n",
    "def print_net_params(param):\n",
    "    for m in sorted(param):\n",
    "        print m, param[m].shape\n",
    "        \n",
    "def plot_network(symbol, name='network'):\n",
    "    graph = mx.viz.plot_network(symbol=symbol, node_attrs={\"shape\":'rect', \"fixedsize\":'false', 'rankdir': 'TB'})\n",
    "    graph.format = 'png'\n",
    "    graph.render('network.gv', view=True)\n",
    "    \n",
    "def print_inferred_shape(net, name, nch=3, size=300, node_type='rgb'):\n",
    "    if node_type == 'rgb':\n",
    "        ar, ou, au = net.infer_shape(rgb=(1, nch, size, size))\n",
    "    if node_type == 'tir': \n",
    "        ar, ou, au = net.infer_shape(tir=(1, nch, size, size))\n",
    "    if node_type == 'spectral':\n",
    "        ar, ou, au = net.infer_shape(tir=(1, 1, size, size), rgb=(1, nch, size, size))\n",
    "    print ou\n",
    "    \n",
    "    \n",
    "def bn_act_conv_layer(from_layer, name, num_filter, kernel=(1,1), pad=(0,0), stride=(1,1)):\n",
    "    bn = mx.symbol.BatchNorm(data=from_layer, name=\"bn{}\".format(name))\n",
    "    relu = mx.symbol.Activation(data=bn, act_type='relu')\n",
    "    conv = mx.symbol.Convolution(data=relu, kernel=kernel, pad=pad, stride=stride, num_filter=num_filter, name=\"conv{}\".format(name))\n",
    "    return conv, relu\n",
    "\n",
    "def conv_act_layer(from_layer, name, num_filter, kernel=(1,1), pad=(0,0), stride=(1,1), act_type=\"relu\"):\n",
    "    relu = mx.symbol.Activation(data=from_layer, act_type=act_type, name=\"{}{}\".format(act_type, name))\n",
    "    conv = mx.symbol.Convolution(data=relu, kernel=kernel, pad=pad, stride=stride, num_filter=num_filter, name=\"conv{}\".format(name))\n",
    "    return conv, relu\n",
    "    \n",
    "def residual_unit(data, num_filter, stride, dim_match, name, bn_mom=0.9, workspace=256):\n",
    "    bn1 = mx.sym.BatchNorm(data=data, fix_gamma=False, momentum=bn_mom, eps=2e-5, name=name + '_bn1')\n",
    "    act1 = mx.symbol.Activation(data=bn1, act_type='relu', name=name + '_relu1')\n",
    "    conv1 = mx.sym.Convolution(data=act1, num_filter=num_filter, kernel=(3, 3), stride=stride, pad=(1, 1),\n",
    "                               no_bias=True, workspace=workspace, name=name + '_conv1')\n",
    "    bn2 = mx.sym.BatchNorm(data=conv1, fix_gamma=False, momentum=bn_mom, eps=2e-5, name=name + '_bn2')\n",
    "    act2 = mx.symbol.Activation(data=bn2, act_type='relu', name=name + '_relu2')\n",
    "    conv2 = mx.sym.Convolution(data=act2, num_filter=num_filter, kernel=(3, 3), stride=(1, 1), pad=(1, 1),\n",
    "                               no_bias=True, workspace=workspace, name=name + '_conv2')\n",
    "    if dim_match:\n",
    "        shortcut = data\n",
    "    else:\n",
    "        shortcut = mx.sym.Convolution(data=act1, num_filter=num_filter, kernel=(1, 1), stride=stride, no_bias=True,\n",
    "                                      workspace=workspace, name=name + '_sc')\n",
    "    return conv2 + shortcut\n",
    "\n",
    "\n",
    "# fusion functions\n",
    "def cf_unit(res_unit_rgb, res_unit_tir, num_filters=64, name='fusion1_unit_1', mode='conv'):\n",
    "    if mode == 'conv':\n",
    "        concat = mx.symbol.Concat(name=name + '_concat', *[res_unit_rgb, res_unit_tir], dim=1)\n",
    "        act = mx.symbol.Activation(data=concat, act_type='relu', name=name + '_relu1')\n",
    "        conv = mx.sym.Convolution(act, num_filter=num_filters, kernel=(3, 3), stride=(1, 1), pad=(1, 1),\n",
    "                                  workspace=256, name=name + '_conv')\n",
    "    elif mode == 'sum':\n",
    "        conv = mx.symbol.broadcast_add(res_unit_rgb, res_unit_tir, name=name + '_conv')\n",
    "    elif mode == 'max':\n",
    "        conv = mx.symbol.broadcast_maximum(res_unit_rgb, res_unit_tir, name=name + '_conv')\n",
    "    return conv\n",
    "\n",
    "def spectral_net():\n",
    "    filter_list = [64, 64, 128, 256, 512]    \n",
    "    tir = mx.sym.Variable(name='tir')\n",
    "    \n",
    "    net_tir = mx.sym.Convolution(tir, num_filter=filter_list[0], kernel=(3, 3), stride=(1, 1), pad=(1, 1), name='conv0')\n",
    "    net_tir = mx.symbol.Activation(net_tir, act_type='relu', name='relu0')\n",
    "    net_tir = mx.symbol.Pooling(net_tir, kernel=(3, 3), stride=(2, 2), pad=(1, 1), pool_type='max', name='pool0')\n",
    "    net_tir = mx.sym.Convolution(net_tir, num_filter=filter_list[1], kernel=(3, 3), stride=(1, 1), pad=(1, 1), name='conv1')\n",
    "    net_tir = mx.symbol.Activation(net_tir, act_type='relu', name='relu1')\n",
    "    net_tir = mx.symbol.Pooling(net_tir, kernel=(3, 3), stride=(2, 2), pad=(1, 1), pool_type='max', name='pool1')\n",
    "    net_tir = mx.sym.Convolution(net_tir, num_filter=filter_list[2], kernel=(3, 3), stride=(1, 1), pad=(1, 1),name='conv2')\n",
    "    net_tir = mx.symbol.Activation(net_tir, act_type='relu', name='relu2')\n",
    "    net_tir = mx.symbol.Pooling(net_tir, kernel=(3, 3), stride=(2, 2), pad=(1, 1), pool_type='max', name='pool2')\n",
    "    net_tir = mx.sym.Convolution(net_tir, num_filter=filter_list[3], kernel=(3, 3), stride=(1, 1), pad=(1, 1),name='conv3')\n",
    "    net_tir = mx.symbol.Activation(net_tir, act_type='relu', name='relu3')\n",
    "    net_tir = mx.symbol.Pooling(net_tir, kernel=(3, 3), stride=(2, 2), pad=(1, 1), pool_type='max', name='pool3')\n",
    "    net_tir = mx.sym.Convolution(net_tir, num_filter=filter_list[4], kernel=(3, 3), stride=(1, 1), pad=(1, 1), name='conv4')\n",
    "    net_tir = mx.symbol.Activation(net_tir, act_type='relu', name='relu4')\n",
    "    net_tir = mx.symbol.Pooling(net_tir, kernel=(3, 3), stride=(2, 2), pad=(1, 1), pool_type='max', name='pool4')\n",
    "    net_tir, relu8_2t = conv_act_layer(net_tir, \"8_2t\", 512, kernel=(3, 3), pad=(1, 1), stride=(2, 2))\n",
    "    net_tir, relu9_2t = conv_act_layer(net_tir, \"9_2t\", 256, kernel=(3, 3), pad=(1, 1), stride=(2, 2))\n",
    "    net_tir, relu10_2t = conv_act_layer(net_tir, \"10_2t\", 256, kernel=(3, 3), pad=(1, 1), stride=(2, 2))\n",
    "\n",
    "    fusion_1 = net_tir.get_internals()[\"pool2_output\"]\n",
    "    fusion_2 = net_tir.get_internals()[\"pool3_output\"]\n",
    "    fusion_3 = net_tir.get_internals()[\"conv8_2t_output\"]\n",
    "    fusion_4 = net_tir.get_internals()[\"conv9_2t_output\"]\n",
    "    fusion_5 = net_tir.get_internals()[\"conv10_2t_output\"]\n",
    "   \n",
    "    return [fusion_1, fusion_2, fusion_3, fusion_4, fusion_5]\n",
    "\n",
    "\n",
    "def resnet():\n",
    "    filter_list = [64, 64, 128, 256, 512]\n",
    "    bn_mom = 0.9\n",
    "    workspace = 256\n",
    "\n",
    "    rgb = mx.sym.Variable(name='rgb')\n",
    "\n",
    "    # rgb head\n",
    "    rgb = mx.sym.BatchNorm(rgb, fix_gamma=True, eps=2e-5, momentum=bn_mom, name='bn_data')\n",
    "    net_rgb = mx.sym.Convolution(rgb, num_filter=filter_list[0], kernel=(7, 7), stride=(2, 2), pad=(3, 3), no_bias=True, name=\"conv0\", workspace=workspace)\n",
    "    net_rgb = mx.sym.BatchNorm(net_rgb, fix_gamma=False, eps=2e-5, momentum=bn_mom, name='bn0')\n",
    "    net_rgb = mx.symbol.Activation(net_rgb, act_type='relu', name='relu0')\n",
    "    net_rgb = mx.symbol.Pooling(net_rgb, kernel=(3, 3), stride=(2, 2), pad=(1, 1), pool_type='max')\n",
    "\n",
    "    # stage 1\n",
    "    net_rgb = residual_unit(net_rgb, filter_list[1], (1, 1), False, name='stage1_unit1', workspace=workspace)\n",
    "    net_rgb = residual_unit(net_rgb, filter_list[1], (1, 1), True, name='stage1_unit2', workspace=workspace)\n",
    "\n",
    "    # stage 2\n",
    "    net_rgb = residual_unit(net_rgb, filter_list[2], (2, 2), False, name='stage2_unit1', workspace=workspace)\n",
    "    net_rgb = residual_unit(net_rgb, filter_list[2], (1, 1), True, name='stage2_unit2', workspace=workspace)\n",
    "\n",
    "    # stage 3\n",
    "    net_rgb = residual_unit(net_rgb, filter_list[3], (2, 2), False, name='stage3_unit1', workspace=workspace)\n",
    "    net_rgb = residual_unit(net_rgb, filter_list[3], (1, 1), True, name='stage3_unit2', workspace=workspace)\n",
    "\n",
    "    # stage 4\n",
    "    net_rgb = residual_unit(net_rgb, filter_list[4], (2, 2), False, name='stage4_unit1', workspace=workspace)\n",
    "    net_rgb = residual_unit(net_rgb, filter_list[4], (1, 1), True, name='stage4_unit2', workspace=workspace)\n",
    "\n",
    "    bn1 = mx.sym.BatchNorm(net_rgb, fix_gamma=False, eps=2e-5, momentum=bn_mom, name='bn1')\n",
    "    relu1 = mx.symbol.Activation(bn1, act_type='relu', name='relu1')\n",
    "\n",
    "    # ssd extra layers\n",
    "    conv8_1, relu8_1 = bn_act_conv_layer(relu1, \"8_1\", 256, kernel=(1, 1), pad=(0, 0), stride=(1, 1))\n",
    "    conv8_2, relu8_2 = bn_act_conv_layer(conv8_1, \"8_2\", 512, kernel=(3, 3), pad=(1, 1), stride=(2, 2))\n",
    "    conv9_1, relu9_1 = bn_act_conv_layer(conv8_2, \"9_1\", 128, kernel=(1, 1), pad=(0, 0), stride=(1, 1))\n",
    "    conv9_2, relu9_2 = bn_act_conv_layer(conv9_1, \"9_2\", 256, kernel=(3, 3), pad=(1, 1), stride=(2, 2))\n",
    "    conv10_1, relu10_1 = bn_act_conv_layer(conv9_2, \"10_1\", 128, kernel=(1, 1), pad=(0, 0), stride=(1, 1))\n",
    "    conv10_2, relu10_2 = bn_act_conv_layer(conv10_1, \"10_2\", 256, kernel=(3, 3), pad=(1, 1), stride=(2, 2))\n",
    "    pool10 = mx.symbol.Pooling(data=conv10_2, pool_type=\"avg\", global_pool=True, kernel=(1, 1), name='pool10')\n",
    "    net_rgb = pool10\n",
    "\n",
    "    fusion_1 = net_rgb.get_internals()[\"stage3_unit1_relu1_output\"]\n",
    "    fusion_2 = net_rgb.get_internals()[\"stage4_unit1_relu1_output\"]\n",
    "    fusion_3 = conv8_2\n",
    "    fusion_4 = conv9_2\n",
    "    fusion_5 = conv10_2\n",
    "\n",
    "    return [fusion_1, fusion_2, fusion_3, fusion_4, fusion_5, pool10]\n",
    "\n",
    "\n",
    "def fusion_net():\n",
    "    rgb_fusion_layers = resnet()\n",
    "    tir_fusion_layers = spectral_net()\n",
    "    input_1 = cf_unit(rgb_fusion_layers[0], tir_fusion_layers[0], num_filters=128, name='fusion1')\n",
    "    input_2 = cf_unit(rgb_fusion_layers[1], tir_fusion_layers[1], num_filters=256, name='fusion2')\n",
    "    input_3 = cf_unit(rgb_fusion_layers[2], tir_fusion_layers[2], num_filters=512, name='fusion3')\n",
    "    input_4 = cf_unit(rgb_fusion_layers[3], tir_fusion_layers[3], num_filters=256, name='fusion4')\n",
    "    input_5 = cf_unit(rgb_fusion_layers[4], tir_fusion_layers[4], num_filters=256, name='fusion5')\n",
    "    input_6 = rgb_fusion_layers[5]\n",
    "    return [input_1, input_2, input_3, input_4, input_5, input_6]\n"
   ]
  },
  {
   "cell_type": "code",
   "execution_count": 152,
   "metadata": {
    "collapsed": false
   },
   "outputs": [],
   "source": [
    "symb=fusion_net()"
   ]
  },
  {
   "cell_type": "code",
   "execution_count": 147,
   "metadata": {
    "collapsed": false
   },
   "outputs": [
    {
     "name": "stdout",
     "output_type": "stream",
     "text": [
      "stage3_unit1_relu1_output [(1L, 128L, 38L, 38L)]\n",
      "stage4_unit1_relu1_output [(1L, 256L, 19L, 19L)]\n",
      "conv8_2_output [(1L, 512L, 5L, 5L)]\n",
      "conv9_2_output [(1L, 256L, 3L, 3L)]\n",
      "conv10_2_output [(1L, 256L, 2L, 2L)]\n"
     ]
    }
   ],
   "source": [
    "internals = resnet()[-1].get_internals()\n",
    "for output in internals.list_outputs():\n",
    "    if output in [\"stage3_unit1_relu1_output\", \n",
    "                  \"stage4_unit1_relu1_output\", \n",
    "                  'conv8_2_output',\n",
    "                  'conv9_2_output',\n",
    "                  'conv10_2_output']:\n",
    "        print output, internals[output].infer_shape(rgb=(1,3,300,300))[1]"
   ]
  },
  {
   "cell_type": "code",
   "execution_count": 149,
   "metadata": {
    "collapsed": false
   },
   "outputs": [
    {
     "name": "stdout",
     "output_type": "stream",
     "text": [
      "pool2_output [(1L, 128L, 38L, 38L)]\n",
      "pool3_output [(1L, 256L, 19L, 19L)]\n",
      "conv8_2t_output [(1L, 512L, 5L, 5L)]\n",
      "conv9_2t_output [(1L, 256L, 3L, 3L)]\n",
      "conv10_2t_output [(1L, 256L, 2L, 2L)]\n"
     ]
    }
   ],
   "source": [
    "internals = spectral_net().get_internals()\n",
    "for output in internals.list_outputs():\n",
    "    if output in ['pool2_output',\n",
    "                  'pool3_output', \n",
    "                  'conv8_2t_output', \n",
    "                  'conv9_2t_output',\n",
    "                  'conv10_2t_output',]:\n",
    "        print output, internals[output].infer_shape(tir=(1,1,300,300))[1]"
   ]
  },
  {
   "cell_type": "code",
   "execution_count": 174,
   "metadata": {
    "collapsed": false
   },
   "outputs": [
    {
     "name": "stdout",
     "output_type": "stream",
     "text": [
      "fusion5_relu1_output [(1L, 512L, 2L, 2L)]\n"
     ]
    }
   ],
   "source": [
    "internals = fusion_net()[-2].get_internals()\n",
    "for output in internals.list_outputs():\n",
    "#     print output\n",
    "    if output in ['fusion5_relu1_output']:\n",
    "        print output, internals[output].infer_shape(tir=(1,1,300,300), rgb=(1,3,300,300))[1]"
   ]
  },
  {
   "cell_type": "code",
   "execution_count": 128,
   "metadata": {
    "collapsed": true
   },
   "outputs": [],
   "source": [
    "# read trained ssd-resnet 0.68\n",
    "net_params_ssd = mx.initializer.Load('ssd_300-0300.params')\n",
    "net_params = {}\n",
    "\n",
    "# add same weights for tir network\n",
    "for arg in net_params_ssd.param:\n",
    "    net_params[arg] = net_params_ssd.param[arg]\n",
    "#     if arg.startswith('bn_data') or arg.startswith('bn0') or arg.startswith('conv0') or arg.startswith('stage1') \\\n",
    "#     or arg.startswith('stage2') or arg.startswith('stage3') or arg.startswith('stage4'):\n",
    "#         net_params['tir_'+arg] = net_params_ssd.param[arg]\n",
    "        \n",
    "# scale param for fusion unit\n",
    "net_params['fusion3_1_conv_scale'] = net_params_ssd.param['stage3_unit1_relu1_scale']\n",
    "\n",
    "# prediction params for fusion units\n",
    "# net_params['fusion3_1_conv_cls_pred_conv_bias'] = net_params_ssd.param['stage3_unit1_relu1_cls_pred_conv_bias']\n",
    "# net_params['fusion3_1_conv_cls_pred_conv_weight'] = net_params_ssd.param['stage3_unit1_relu1_cls_pred_conv_weight']\n",
    "# net_params['fusion3_1_conv_loc_pred_conv_bias'] = net_params_ssd.param['stage3_unit1_relu1_loc_pred_conv_bias']\n",
    "# net_params['fusion3_1_conv_loc_pred_conv_weight'] = net_params_ssd.param['stage3_unit1_relu1_loc_pred_conv_weight']\n",
    "\n",
    "# net_params['fusion4_1_conv_cls_pred_conv_bias'] = net_params_ssd.param['stage4_unit1_relu1_cls_pred_conv_bias']\n",
    "# net_params['fusion4_1_conv_cls_pred_conv_weight'] = net_params_ssd.param['stage4_unit1_relu1_cls_pred_conv_weight']\n",
    "# net_params['fusion4_1_conv_loc_pred_conv_bias'] = net_params_ssd.param['stage4_unit1_relu1_loc_pred_conv_bias']\n",
    "# net_params['fusion4_1_conv_loc_pred_conv_weight'] = net_params_ssd.param['stage4_unit1_relu1_loc_pred_conv_weight']\n",
    "\n",
    "# #take all values for red chanell since it close to TIR\n",
    "# net_params['tir_conv0_weight'] = mx.nd.array(net_params['tir_conv0_weight'].asnumpy()[:, :1, :, :])\n",
    "# net_params['tir_bn_data_gamma'] = mx.nd.array(net_params['tir_bn_data_gamma'].asnumpy()[:1])\n",
    "# net_params['tir_bn_data_beta'] = mx.nd.array(net_params['tir_bn_data_beta'].asnumpy()[:1])\n",
    "# net_params['tir_bn_data_moving_var'] = mx.nd.array(net_params['tir_bn_data_moving_var'].asnumpy()[:1])\n",
    "# net_params['tir_bn_data_moving_mean'] = mx.nd.array(net_params['tir_bn_data_moving_mean'].asnumpy()[:1])"
   ]
  },
  {
   "cell_type": "code",
   "execution_count": 129,
   "metadata": {
    "collapsed": true
   },
   "outputs": [],
   "source": [
    "# def get_person_class(name, bbox=3):\n",
    "#     cls=14\n",
    "#     b = net_params[name].asnumpy()[:bbox]\n",
    "#     p = net_params[name].asnumpy()[cls*bbox:(cls+1)*bbox]\n",
    "#     return mx.nd.array(np.concatenate([b,p], axis=0)) "
   ]
  },
  {
   "cell_type": "code",
   "execution_count": 130,
   "metadata": {
    "collapsed": false
   },
   "outputs": [],
   "source": [
    "# transform predictions only for person class\n",
    "# net_params['fusion3_1_conv_cls_pred_conv_bias'] = get_person_class('fusion3_1_conv_cls_pred_conv_bias', 3)\n",
    "# net_params['fusion3_1_conv_cls_pred_conv_weight'] = get_person_class('fusion3_1_conv_cls_pred_conv_weight', 3)\n",
    "\n",
    "# net_params['fusion4_1_conv_cls_pred_conv_bias'] = get_person_class('fusion4_1_conv_cls_pred_conv_bias', 6)\n",
    "# net_params['fusion4_1_conv_cls_pred_conv_weight'] = get_person_class('fusion4_1_conv_cls_pred_conv_weight', 6)\n",
    "\n",
    "# net_params['conv8_2_cls_pred_conv_weight'] = get_person_class('conv8_2_cls_pred_conv_weight', 6)\n",
    "# net_params['conv8_2_cls_pred_conv_bias'] = get_person_class('conv8_2_cls_pred_conv_bias', 6)\n",
    "\n",
    "# net_params['conv9_2_cls_pred_conv_weight'] = get_person_class('conv9_2_cls_pred_conv_weight', 6)\n",
    "# net_params['conv9_2_cls_pred_conv_bias'] = get_person_class('conv9_2_cls_pred_conv_bias', 6)\n",
    "\n",
    "# net_params['conv10_2_cls_pred_conv_weight'] = get_person_class('conv10_2_cls_pred_conv_weight', 6)\n",
    "# net_params['conv10_2_cls_pred_conv_bias'] = get_person_class('conv10_2_cls_pred_conv_bias', 6)\n",
    "\n",
    "# net_params['pool10_cls_pred_conv_weight'] = get_person_class('pool10_cls_pred_conv_weight', 6)\n",
    "# net_params['pool10_cls_pred_conv_bias'] = get_person_class('pool10_cls_pred_conv_bias', 6)"
   ]
  },
  {
   "cell_type": "code",
   "execution_count": 131,
   "metadata": {
    "collapsed": false
   },
   "outputs": [
    {
     "name": "stdout",
     "output_type": "stream",
     "text": [
      "[(1L, 128L, 38L, 38L)]\n",
      "[(1L, 256L, 19L, 19L)]\n",
      "[(1L, 128L, 38L, 38L)]\n",
      "[(1L, 256L, 19L, 19L)]\n",
      "[(1L, 512L, 10L, 10L)]\n"
     ]
    }
   ],
   "source": [
    "model = mx.mod.Module(symbol=resnet(), data_names=['rgb', 'tir'])\n",
    "model.bind(data_shapes=[('rgb', (1, 3, 300, 300)), ('tir', (1, 1, 300, 300))])\n",
    "model.init_params(arg_params=net_params, allow_missing=True, initializer=mx.initializer.Xavier())"
   ]
  },
  {
   "cell_type": "code",
   "execution_count": 132,
   "metadata": {
    "collapsed": true
   },
   "outputs": [],
   "source": [
    "save_net(model, 'spectral')"
   ]
  },
  {
   "cell_type": "code",
   "execution_count": null,
   "metadata": {
    "collapsed": true
   },
   "outputs": [],
   "source": []
  }
 ],
 "metadata": {
  "kernelspec": {
   "display_name": "Python 2",
   "language": "python",
   "name": "python2"
  },
  "language_info": {
   "codemirror_mode": {
    "name": "ipython",
    "version": 2
   },
   "file_extension": ".py",
   "mimetype": "text/x-python",
   "name": "python",
   "nbconvert_exporter": "python",
   "pygments_lexer": "ipython2",
   "version": "2.7.12"
  }
 },
 "nbformat": 4,
 "nbformat_minor": 1
}
