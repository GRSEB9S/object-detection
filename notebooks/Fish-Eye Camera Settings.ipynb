{
 "cells": [
  {
   "cell_type": "markdown",
   "metadata": {},
   "source": [
    "- Lens Info: http://www.optics-online.com/OOL/DSL/DSL215.PDF\n",
    "- Thermal Camera Info: https://groupgets.com/manufacturers/flir/products/flir-lepton\n",
    "- Python module for IDS camera: https://github.com/ncsuarc/ids"
   ]
  },
  {
   "cell_type": "code",
   "execution_count": 2,
   "metadata": {
    "collapsed": false
   },
   "outputs": [],
   "source": [
    "import ids\n",
    "cam = ids.Camera()\n",
    "cam.color_mode = ids.ids_core.COLOR_RGB8    # Get images in RGB format\n",
    "cam.exposure = 5                            # Set initial exposure to 5ms\n",
    "cam.auto_exposure = True\n",
    "cam.continuous_capture = True               # Start image capture"
   ]
  },
  {
   "cell_type": "code",
   "execution_count": 3,
   "metadata": {
    "collapsed": false
   },
   "outputs": [],
   "source": [
    "# Define the codec and create VideoWriter object\n",
    "import cv2\n",
    "fourcc = cv2.VideoWriter_fourcc(*'XVID')\n",
    "out = cv2.VideoWriter('output.avi',fourcc, 20.0, (752,480))"
   ]
  },
  {
   "cell_type": "code",
   "execution_count": 6,
   "metadata": {
    "collapsed": true
   },
   "outputs": [],
   "source": [
    "from PIL import Image\n",
    "pil_img = Image.fromarray(img)\n",
    "pil_img.save(\"pil.jpg\", quality=95)"
   ]
  },
  {
   "cell_type": "code",
   "execution_count": 4,
   "metadata": {
    "collapsed": false
   },
   "outputs": [
    {
     "name": "stderr",
     "output_type": "stream",
     "text": [
      "WARNING:ids:Out of memory locations for images (1716 instances)\n"
     ]
    }
   ],
   "source": [
    "while(True):\n",
    "    # Capture frame-by-frame\n",
    "    img, meta = cam.next() \n",
    " \n",
    "    # Our operations on the frame come here\n",
    "    bgr_img = cv2.cvtColor(img, cv2.COLOR_RGB2BGR)\n",
    "\n",
    "    # Display the resulting frame\n",
    "    cv2.imshow('frame', bgr_img)\n",
    "    \n",
    "    # Save video\n",
    "    out.write(img)\n",
    "    \n",
    "    # Wait for user break\n",
    "    if cv2.waitKey(1) & 0xFF == ord('q'):\n",
    "        break\n",
    "        \n",
    "out.release()\n",
    "cv2.destroyAllWindows()"
   ]
  },
  {
   "cell_type": "code",
   "execution_count": 4,
   "metadata": {
    "collapsed": false
   },
   "outputs": [
    {
     "data": {
      "text/plain": [
       "True"
      ]
     },
     "execution_count": 4,
     "metadata": {},
     "output_type": "execute_result"
    }
   ],
   "source": [
    "import cv2\n",
    "img, meta = cam.next() \n",
    "bgr_img = cv2.cvtColor(img, cv2.COLOR_RGB2BGR)\n",
    "cv2.imwrite('cv2.jpg', bgr_img) # cv2.imwrite takes a BGR image"
   ]
  },
  {
   "cell_type": "code",
   "execution_count": null,
   "metadata": {
    "collapsed": true
   },
   "outputs": [],
   "source": []
  },
  {
   "cell_type": "code",
   "execution_count": 110,
   "metadata": {
    "collapsed": false
   },
   "outputs": [
    {
     "data": {
      "text/plain": [
       "-1"
      ]
     },
     "execution_count": 110,
     "metadata": {},
     "output_type": "execute_result"
    }
   ],
   "source": [
    "import cv2\n",
    "import numpy as np\n",
    "\n",
    "assert float(cv2.__version__.rsplit('.', 1)[0]) >= 3, 'OpenCV version 3 or newer required.'\n",
    "\n",
    "K = np.array([[  689.21,     0.  ,  181.49886],\n",
    "              [    0.  ,   690.48,  240.72713],\n",
    "              [    0.  ,     0.  ,     1.]])\n",
    "\n",
    "# zero distortion coefficients work well for this image\n",
    "D = np.array([0., 0., 0., 0.])\n",
    "D = np.array([9,192.425921, 109.296494, 1.135822]) # 7.422346, -0.090976, 3.317076, 3.184247, 0.730517])\n",
    "\n",
    "# use Knew to scale the output\n",
    "Knew = K.copy()\n",
    "Knew[(0,1), (0,1)] = 0.9*Knew[(0,1), (0,1)]\n",
    "\n",
    "\n",
    "P = np.array([[9.999445e-01, -6.540294e-03, -8.257457e-03, -8.300560e+03], \n",
    "              [6.711788e-03, 9.997587e-01, 2.091435e-02, -5.055307e+03],\n",
    "              [8.118679e-03, -2.096862e-02, 9.997472e-01, -2.716059e+03]]) \n",
    "\n",
    "R = np.array([[9.999445e-01, -6.540294e-03, -8.257457e-03], \n",
    "              [6.711788e-03, 9.997587e-01, 2.091435e-02], \n",
    "              [8.118679e-03, -2.096862e-02, 9.997472e-01]])\n",
    "\n",
    "\n",
    "img = cv2.imread('fisheye_sample.jpg')\n",
    "\n",
    "img_undistorted = cv2.fisheye.undistortImage(img, K, D=D, Knew=Knew)\n",
    "\n",
    "cv2.imwrite('fisheye_sample_undistorted.jpg', img_undistorted)\n",
    "cv2.imshow('undistorted', img_undistorted)\n",
    "cv2.waitKey()"
   ]
  },
  {
   "cell_type": "code",
   "execution_count": 12,
   "metadata": {
    "collapsed": false
   },
   "outputs": [
    {
     "ename": "SyntaxError",
     "evalue": "invalid syntax (<ipython-input-12-479af5e766ba>, line 1)",
     "output_type": "error",
     "traceback": [
      "\u001b[0;36m  File \u001b[0;32m\"<ipython-input-12-479af5e766ba>\"\u001b[0;36m, line \u001b[0;32m1\u001b[0m\n\u001b[0;31m    require 'nnf'\u001b[0m\n\u001b[0m                ^\u001b[0m\n\u001b[0;31mSyntaxError\u001b[0m\u001b[0;31m:\u001b[0m invalid syntax\n"
     ]
    }
   ],
   "source": [
    "\n",
    "require 'image'\n",
    "require 'cudnn'\n",
    "require 'inn'\n",
    "require 'nn'\n",
    "\n",
    "-- load pre-trained Fast-RCNN model\n",
    "params = torch.load('cachedir/frcnn_alexnet.t7')\n",
    "loadModel = dofile 'models/frcnn_alexnet.lua'\n",
    "model = loadModel(params)\n",
    "\n",
    "model:add(nn.SoftMax())\n",
    "model:evaluate()\n",
    "model:cuda()\n",
    "\n",
    "-- prepare detector\n",
    "image_transformer= nnf.ImageTransformer{mean_pix={102.9801,115.9465,122.7717},\n",
    "                                        raw_scale = 255,\n",
    "                                        swap = {3,2,1}}\n",
    "feat_provider = nnf.FRCNN{image_transformer=image_transformer}\n",
    "feat_provider:evaluate() -- testing mode\n",
    "detector = nnf.ImageDetect(model, feat_provider)"
   ]
  },
  {
   "cell_type": "code",
   "execution_count": 9,
   "metadata": {
    "collapsed": false
   },
   "outputs": [],
   "source": [
    "import scipy.io\n",
    "mat = scipy.io.loadmat('calib_data_omni_1A.mat')"
   ]
  },
  {
   "cell_type": "code",
   "execution_count": 61,
   "metadata": {
    "collapsed": false
   },
   "outputs": [
    {
     "data": {
      "text/plain": [
       "dtype([('intrinsics', 'O'), ('extrinsics', 'O')])"
      ]
     },
     "execution_count": 61,
     "metadata": {},
     "output_type": "execute_result"
    }
   ],
   "source": [
    "mat['calib_data'].dtype"
   ]
  },
  {
   "cell_type": "code",
   "execution_count": 98,
   "metadata": {
    "collapsed": false
   },
   "outputs": [
    {
     "name": "stdout",
     "output_type": "stream",
     "text": [
      "[('ss', 'O'), ('invpol', 'O'), ('xc', 'O'), ('yc', 'O'), ('c', 'O'), ('d', 'O'), ('e', 'O'), ('height', 'O'), ('width', 'O')]\n",
      "[[ -1.30574600e+02]\n",
      " [  0.00000000e+00]\n",
      " [  2.70241300e-03]\n",
      " [ -2.31637900e-06]\n",
      " [  3.42901700e-08]]\n",
      "\n",
      "[[  1.92425921e+02]\n",
      " [  1.09296494e+02]\n",
      " [  1.13582200e+00]\n",
      " [  1.84168780e+01]\n",
      " [  7.42234600e+00]\n",
      " [ -9.09760000e-02]\n",
      " [  3.31707600e+00]\n",
      " [  3.18424700e+00]\n",
      " [  7.30517000e-01]]\n",
      "\n",
      "[[ 181.49886]]\n",
      "\n",
      "[[ 240.72713]]\n",
      "\n",
      "[[ 1.002295]]\n",
      "\n",
      "[[ 0.000791]]\n",
      "\n",
      "[[-0.002545]]\n",
      "\n",
      "[[360]]\n",
      "\n",
      "[[480]]\n",
      "\n"
     ]
    }
   ],
   "source": [
    "print(mat['calib_data'][0][0][0][0][0].dtype)\n",
    "\n",
    "for i in range(9):\n",
    "    print (mat['calib_data'][0][0][0][0][0][i])\n",
    "    print()"
   ]
  },
  {
   "cell_type": "code",
   "execution_count": 81,
   "metadata": {
    "collapsed": false
   },
   "outputs": [
    {
     "data": {
      "text/plain": [
       "array([[ ([[-130.5746], [0.0], [0.002702413], [-2.316379e-06], [3.429017e-08]], [[192.425921], [109.296494], [1.135822], [18.416878], [7.422346], [-0.090976], [3.317076], [3.184247], [0.730517]], [[181.49886]], [[240.72713]], [[1.002295]], [[0.000791]], [[-0.002545]], [[360]], [[480]])]], \n",
       "      dtype=[('ss', 'O'), ('invpol', 'O'), ('xc', 'O'), ('yc', 'O'), ('c', 'O'), ('d', 'O'), ('e', 'O'), ('height', 'O'), ('width', 'O')])"
      ]
     },
     "execution_count": 81,
     "metadata": {},
     "output_type": "execute_result"
    }
   ],
   "source": [
    "mat['calib_data'][0][0][0]"
   ]
  },
  {
   "cell_type": "code",
   "execution_count": 68,
   "metadata": {
    "collapsed": false
   },
   "outputs": [
    {
     "ename": "IndexError",
     "evalue": "index 1 is out of bounds for axis 0 with size 1",
     "output_type": "error",
     "traceback": [
      "\u001b[0;31m---------------------------------------------------------------------------\u001b[0m",
      "\u001b[0;31mIndexError\u001b[0m                                Traceback (most recent call last)",
      "\u001b[0;32m<ipython-input-68-77fba07e626a>\u001b[0m in \u001b[0;36m<module>\u001b[0;34m()\u001b[0m\n\u001b[0;32m----> 1\u001b[0;31m \u001b[0mprint\u001b[0m\u001b[0;34m(\u001b[0m\u001b[0mmat\u001b[0m\u001b[0;34m[\u001b[0m\u001b[0;34m'calib_data'\u001b[0m\u001b[0;34m]\u001b[0m\u001b[0;34m[\u001b[0m\u001b[0;36m0\u001b[0m\u001b[0;34m]\u001b[0m\u001b[0;34m[\u001b[0m\u001b[0;36m1\u001b[0m\u001b[0;34m]\u001b[0m\u001b[0;34m[\u001b[0m\u001b[0;36m0\u001b[0m\u001b[0;34m]\u001b[0m\u001b[0;34m[\u001b[0m\u001b[0;36m0\u001b[0m\u001b[0;34m]\u001b[0m\u001b[0;34m[\u001b[0m\u001b[0;36m0\u001b[0m\u001b[0;34m]\u001b[0m\u001b[0;34m.\u001b[0m\u001b[0mdtype\u001b[0m\u001b[0;34m)\u001b[0m\u001b[0;34m\u001b[0m\u001b[0m\n\u001b[0m\u001b[1;32m      2\u001b[0m \u001b[0;34m\u001b[0m\u001b[0m\n\u001b[1;32m      3\u001b[0m \u001b[0;32mfor\u001b[0m \u001b[0mi\u001b[0m \u001b[0;32min\u001b[0m \u001b[0mrange\u001b[0m\u001b[0;34m(\u001b[0m\u001b[0;36m9\u001b[0m\u001b[0;34m)\u001b[0m\u001b[0;34m:\u001b[0m\u001b[0;34m\u001b[0m\u001b[0m\n\u001b[1;32m      4\u001b[0m     \u001b[0mprint\u001b[0m \u001b[0;34m(\u001b[0m\u001b[0mmat\u001b[0m\u001b[0;34m[\u001b[0m\u001b[0;34m'calib_data'\u001b[0m\u001b[0;34m]\u001b[0m\u001b[0;34m[\u001b[0m\u001b[0;36m0\u001b[0m\u001b[0;34m]\u001b[0m\u001b[0;34m[\u001b[0m\u001b[0;36m0\u001b[0m\u001b[0;34m]\u001b[0m\u001b[0;34m[\u001b[0m\u001b[0;36m0\u001b[0m\u001b[0;34m]\u001b[0m\u001b[0;34m[\u001b[0m\u001b[0;36m0\u001b[0m\u001b[0;34m]\u001b[0m\u001b[0;34m[\u001b[0m\u001b[0;36m0\u001b[0m\u001b[0;34m]\u001b[0m\u001b[0;34m[\u001b[0m\u001b[0mi\u001b[0m\u001b[0;34m]\u001b[0m\u001b[0;34m)\u001b[0m\u001b[0;34m\u001b[0m\u001b[0m\n",
      "\u001b[0;31mIndexError\u001b[0m: index 1 is out of bounds for axis 0 with size 1"
     ]
    }
   ],
   "source": [
    "print(mat['calib_data'][0][0][0][0][0].dtype)\n",
    "\n",
    "for i in range(9):\n",
    "    print (mat['calib_data'][0][0][0][0][0][i])"
   ]
  },
  {
   "cell_type": "code",
   "execution_count": 8,
   "metadata": {
    "collapsed": true
   },
   "outputs": [],
   "source": []
  },
  {
   "cell_type": "code",
   "execution_count": 2,
   "metadata": {
    "collapsed": false
   },
   "outputs": [],
   "source": []
  },
  {
   "cell_type": "code",
   "execution_count": null,
   "metadata": {
    "collapsed": true
   },
   "outputs": [],
   "source": []
  }
 ],
 "metadata": {
  "kernelspec": {
   "display_name": "Python 3",
   "language": "python",
   "name": "python3"
  },
  "language_info": {
   "codemirror_mode": {
    "name": "ipython",
    "version": 3
   },
   "file_extension": ".py",
   "mimetype": "text/x-python",
   "name": "python",
   "nbconvert_exporter": "python",
   "pygments_lexer": "ipython3",
   "version": "3.5.2"
  }
 },
 "nbformat": 4,
 "nbformat_minor": 0
}
