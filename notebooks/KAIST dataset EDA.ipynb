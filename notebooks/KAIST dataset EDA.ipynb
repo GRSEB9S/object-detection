{
 "cells": [
  {
   "cell_type": "code",
   "execution_count": 54,
   "metadata": {
    "collapsed": false
   },
   "outputs": [],
   "source": [
    "# libs\n",
    "import numpy as np \n",
    "import pandas as pd\n",
    "import matplotlib.pyplot as plt\n",
    "%matplotlib inline\n",
    "import os\n",
    "from scipy import misc\n",
    "import glob\n",
    "import random\n",
    "import cv2\n",
    "from sklearn.model_selection import train_test_split\n",
    "\n",
    "# link for KAIST dataset\n",
    "# https://sites.google.com/site/pedestrianbenchmark/"
   ]
  },
  {
   "cell_type": "markdown",
   "metadata": {},
   "source": [
    "## Dataset description \n",
    "\n",
    "**The KAIST Multispectral Pedestrian Dataset** consists of 95k color-thermal pairs (640x480, 20Hz) taken from a vehicle. All the pairs are manually annotated (person, people, cyclist) for the total of 103,128 dense annotations and 1,182 unique pedestrians."
   ]
  },
  {
   "cell_type": "markdown",
   "metadata": {},
   "source": [
    "![title](img/train.PNG)\n",
    "![title](img/test.PNG)"
   ]
  },
  {
   "cell_type": "markdown",
   "metadata": {},
   "source": [
    "## Annotations examples"
   ]
  },
  {
   "cell_type": "code",
   "execution_count": 73,
   "metadata": {
    "collapsed": false
   },
   "outputs": [],
   "source": [
    "# read annotations from separate txt files to DataFrame\n",
    "path = '../datasets/KAIST/test_all/annotations/'\n",
    "true_bboxs = []\n",
    "for vid_set in sorted(os.listdir(path)):\n",
    "    for vid in sorted(os.listdir(path+vid_set)):\n",
    "        for i, k in enumerate(sorted(os.listdir(path+vid_set+'/' + vid))):\n",
    "            f = open(path+vid_set+'/' +vid + '/' +k,\"r\")\n",
    "            bboxs = f.readlines()\n",
    "            if len(bboxs)>1:\n",
    "                for bbox in bboxs[1:]:\n",
    "                    splitted = bbox.split(' ')\n",
    "                    im_id = k[:-4]\n",
    "                    cls = splitted[0]\n",
    "                    x = splitted[1]\n",
    "                    y = splitted[2]\n",
    "                    width = splitted[3]\n",
    "                    height = splitted[4]\n",
    "                    true_bboxs.append([vid_set+'-'+vid+'-'+im_id, cls, x, y, width, height])\n",
    "\n",
    "data = pd.DataFrame(true_bboxs, columns=['INDEX', 'CLS', 'X', 'Y', 'W', 'H'])           "
   ]
  },
  {
   "cell_type": "code",
   "execution_count": 74,
   "metadata": {
    "collapsed": false
   },
   "outputs": [
    {
     "data": {
      "text/html": [
       "<div>\n",
       "<table border=\"1\" class=\"dataframe\">\n",
       "  <thead>\n",
       "    <tr style=\"text-align: right;\">\n",
       "      <th></th>\n",
       "      <th>INDEX</th>\n",
       "      <th>CLS</th>\n",
       "      <th>X</th>\n",
       "      <th>Y</th>\n",
       "      <th>W</th>\n",
       "      <th>H</th>\n",
       "    </tr>\n",
       "  </thead>\n",
       "  <tbody>\n",
       "    <tr>\n",
       "      <th>0</th>\n",
       "      <td>set06-V000-I00029</td>\n",
       "      <td>person</td>\n",
       "      <td>520</td>\n",
       "      <td>224</td>\n",
       "      <td>20</td>\n",
       "      <td>50</td>\n",
       "    </tr>\n",
       "    <tr>\n",
       "      <th>1</th>\n",
       "      <td>set06-V000-I00059</td>\n",
       "      <td>person</td>\n",
       "      <td>565</td>\n",
       "      <td>234</td>\n",
       "      <td>25</td>\n",
       "      <td>60</td>\n",
       "    </tr>\n",
       "    <tr>\n",
       "      <th>2</th>\n",
       "      <td>set06-V000-I00239</td>\n",
       "      <td>person</td>\n",
       "      <td>433</td>\n",
       "      <td>217</td>\n",
       "      <td>20</td>\n",
       "      <td>35</td>\n",
       "    </tr>\n",
       "    <tr>\n",
       "      <th>3</th>\n",
       "      <td>set06-V000-I00269</td>\n",
       "      <td>person</td>\n",
       "      <td>472</td>\n",
       "      <td>215</td>\n",
       "      <td>20</td>\n",
       "      <td>43</td>\n",
       "    </tr>\n",
       "  </tbody>\n",
       "</table>\n",
       "</div>"
      ],
      "text/plain": [
       "               INDEX     CLS    X    Y   W   H\n",
       "0  set06-V000-I00029  person  520  224  20  50\n",
       "1  set06-V000-I00059  person  565  234  25  60\n",
       "2  set06-V000-I00239  person  433  217  20  35\n",
       "3  set06-V000-I00269  person  472  215  20  43"
      ]
     },
     "execution_count": 74,
     "metadata": {},
     "output_type": "execute_result"
    }
   ],
   "source": [
    "data.head(4)"
   ]
  },
  {
   "cell_type": "code",
   "execution_count": 76,
   "metadata": {
    "collapsed": true
   },
   "outputs": [],
   "source": [
    "converted_annotation_folder = '../mxnet-ssd/data/kaist/annotations/'\n",
    "images_folder = '../mxnet-ssd/data/kaist/images/'\n",
    "train_image_set_path = '../mxnet-ssd/data/kaist/image_sets/train.txt'\n",
    "val_image_set_path = '../mxnet-ssd/data/kaist/image_sets/val.txt'\n",
    "test_image_set_path = '../mxnet-ssd/data/kaist/image_sets/test.txt'"
   ]
  },
  {
   "cell_type": "code",
   "execution_count": 81,
   "metadata": {
    "collapsed": false
   },
   "outputs": [],
   "source": [
    "for INDEX in data.INDEX.unique():\n",
    "    # find all notes with this index\n",
    "    index_data = data[data.INDEX == INDEX]\n",
    "    \n",
    "    # re-save image\n",
    "    vid_set, vid, IM_ID = INDEX.split('-')        \n",
    "    image = misc.imread(('../datasets/KAIST/test_all/images/' + vid_set + '/' + vid +'/' + IM_ID + '.png'))\n",
    "    \n",
    "    # save image in dataset images_folder\n",
    "    np.save(images_folder+INDEX+'.npy', image)\n",
    "    \n",
    "    #split data to RGB and TIR for visualization \n",
    "    rgb = image[:,:,:3].copy()\n",
    "    tir = image[:,:,3].copy()\n",
    "\n",
    "    # add basic annotations info     \n",
    "    f = open(converted_annotation_folder + INDEX + '.xml','w')\n",
    "    line = \"<annotation>\" + '\\n'\n",
    "    f.write(line)\n",
    "    line = '\\t\\t<folder>' + \"folder\" + '</folder>' + '\\n'\n",
    "    f.write(line)\n",
    "    line = '\\t\\t<filename>' + INDEX + '</filename>' + '\\n'\n",
    "    f.write(line)\n",
    "    line = '\\t\\t<source>\\n\\t\\t<database>Source</database>\\n\\t</source>\\n'\n",
    "    f.write(line)\n",
    "    (width, height) = image.shape[0], image.shape[1]\n",
    "    line = '\\t<size>\\n\\t\\t<width>'+ str(width) + '</width>\\n\\t\\t<height>' + str(height) + '</height>\\n\\t'\n",
    "    line += '\\t<depth>4</depth>\\n\\t</size>'\n",
    "    f.write(line)\n",
    "    line = '\\n\\t<segmented>Unspecified</segmented>'\n",
    "    f.write(line)\n",
    "    \n",
    "    # get annotations only for this picture\n",
    "    for idx, row in index_data.iterrows():    \n",
    "        x=int(row[2])\n",
    "        y=int(row[3])\n",
    "        w=int(row[4])\n",
    "        h=int(row[5])\n",
    "        line = '\\n\\t<object>'\n",
    "        line += '\\n\\t\\t<name>'+row[1]+'</name>\\n\\t\\t<pose>Unspecified</pose>'\n",
    "        line += '\\n\\t\\t<truncated>Unspecified</truncated>\\n\\t\\t<difficult>0</difficult>'\n",
    "        line += '\\n\\t\\t<bndbox>\\n\\t\\t\\t<xmin>' + str(x) + '</xmin>'            \n",
    "        line += '\\n\\t\\t\\t<ymin>' + str(y) + '</ymin>'\n",
    "        line += '\\n\\t\\t\\t<xmax>' + str(x+w) + '</xmax>'\n",
    "        line += '\\n\\t\\t\\t<ymax>' + str(y+h) + '</ymax>'\n",
    "        line += '\\n\\t\\t</bndbox>'\n",
    "        line += '\\n\\t</object>\\n' \n",
    "        f.write(line) \n",
    "        \n",
    "        cv2.rectangle(rgb,(x,y),(x+w,y+h),(0,255,0),2)\n",
    "        cv2.rectangle(tir,(x,y),(x+w,y+h),(0,255,0),2) \n",
    "    line = \"</annotation>\" + '\\n'\n",
    "    f.write(line)\n",
    "    f.close()\n",
    "    \n",
    "    # create/save figures with thermal-rgb pairs\n",
    "    fig, axes = plt.subplots(ncols=2, nrows=1, figsize=(20, 20))\n",
    "    ax = axes.ravel()\n",
    "    ax[0].imshow(rgb)\n",
    "    ax[0].set_title('RGB')\n",
    "    ax[0].axis('off')\n",
    "    ax[1].imshow(tir, cmap=plt.get_cmap('Spectral_r'))\n",
    "    ax[1].set_title('TIR')\n",
    "    ax[1].axis('off')\n",
    "    fig.tight_layout()\n",
    "    fig.savefig('../figures/'+INDEX+'.png')\n",
    "    plt.close(fig)"
   ]
  },
  {
   "cell_type": "code",
   "execution_count": 61,
   "metadata": {
    "collapsed": false
   },
   "outputs": [],
   "source": [
    "# create train and val image sets\n",
    "train_index, val_index = train_test_split(data.INDEX.unique(), test_size = 0.08)"
   ]
  },
  {
   "cell_type": "code",
   "execution_count": 64,
   "metadata": {
    "collapsed": false
   },
   "outputs": [],
   "source": [
    "save_image_set_txt(train_image_set_path, index)\n",
    "save_image_set_txt(val_image_set_path, val_index)\n",
    "save_image_set_txt(test_image_set_path, data.INDEX.unique())"
   ]
  },
  {
   "cell_type": "code",
   "execution_count": 72,
   "metadata": {
    "collapsed": true
   },
   "outputs": [],
   "source": [
    "# useful functions \n",
    "def save_image_set_txt(path, index):\n",
    "    f = open(path, 'w')\n",
    "    for ind in index:\n",
    "        f.write(ind+'\\n')\n",
    "    f.close()"
   ]
  }
 ],
 "metadata": {
  "kernelspec": {
   "display_name": "Python 2",
   "language": "python",
   "name": "python2"
  },
  "language_info": {
   "codemirror_mode": {
    "name": "ipython",
    "version": 2
   },
   "file_extension": ".py",
   "mimetype": "text/x-python",
   "name": "python",
   "nbconvert_exporter": "python",
   "pygments_lexer": "ipython2",
   "version": "2.7.12"
  }
 },
 "nbformat": 4,
 "nbformat_minor": 1
}
