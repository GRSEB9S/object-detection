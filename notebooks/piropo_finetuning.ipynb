{
 "cells": [
  {
   "cell_type": "code",
   "execution_count": 116,
   "metadata": {
    "collapsed": true
   },
   "outputs": [],
   "source": [
    "import cv2\n",
    "\n",
    "from PIL import Image, ImageDraw\n",
    "import pandas as pd\n",
    "import os\n",
    "\n",
    "import matplotlib.pyplot as plt\n",
    "%matplotlib inline"
   ]
  },
  {
   "cell_type": "code",
   "execution_count": 158,
   "metadata": {
    "collapsed": false
   },
   "outputs": [
    {
     "name": "stdout",
     "output_type": "stream",
     "text": [
      "all:  1640\n",
      "bgr:  684\n",
      "persons: 956\n"
     ]
    }
   ],
   "source": [
    "annotationts = pd.read_csv('datasets/conv/annotations/groundTruth_conv5A_test1.csv',\n",
    "            names=['frame', 'x1', 'y1', 'x2', 'y2', 'x3', 'y3'])\n",
    "\n",
    "with_people = annotationts[(annotationts.x1>0)|(annotationts.x2>0)|(annotationts.x3>0)]\n",
    "background = annotationts[~(annotationts.index.isin(with_people.index))]\n",
    "\n",
    "print 'all: ', annotationts.shape[0]\n",
    "print 'bgr: ', background.shape[0]\n",
    "print 'persons:', with_people.shape[0]"
   ]
  },
  {
   "cell_type": "code",
   "execution_count": 182,
   "metadata": {
    "collapsed": false
   },
   "outputs": [],
   "source": [
    "directory = 'datasets/conv/conv_5A/conv5A_test1/'\n",
    "image_filenames = sorted(os.listdir(directory))\n",
    "\n",
    "draw_is = True\n",
    "# background_is = True\n",
    "\n",
    "# if background_is:\n",
    "#     for i in background.index:\n",
    "#         image_filename = image_filenames[i]\n",
    "#         img = Image.open(directory+image_filename)\n",
    "#         img.save('datasets/conv/conv_4A/test3_bgr/'+image_filename)\n",
    "\n",
    "\n",
    "for i in with_people.index:\n",
    "    # open image\n",
    "    image_filename = image_filenames[i]    \n",
    "    img = Image.open(directory+image_filename)\n",
    "    draw = ImageDraw.Draw(img)\n",
    "    \n",
    "    x1_center, y1_center = with_people.loc[i].x1, with_people.loc[i].y1\n",
    "    x2_center, y2_center = with_people.loc[i].x2, with_people.loc[i].y2\n",
    "    x3_center, y3_center = with_people.loc[i].x3, with_people.loc[i].y3\n",
    "    \n",
    "    bboxs = []\n",
    "\n",
    "    for x_center, y_center in zip([x1_center, x2_center, x3_center], [y1_center, y2_center, y3_center]):\n",
    "        if 50<y_center<90:\n",
    "            xmin, ymin, xmax, ymax = x_center-30, y_center-15, x_center+20, y_center+70\n",
    "            bboxs.append((xmin, ymin, xmax, ymax))\n",
    "        elif 90<y_center<110:\n",
    "            xmin, ymin, xmax, ymax = x_center-20, y_center-18,  x_center+20, y_center+140\n",
    "            bboxs.append((xmin, ymin, xmax, ymax))\n",
    "        elif 110<y_center<150:\n",
    "            xmin, ymin, xmax, ymax = x_center-35, y_center-23,  x_center+25, y_center+170\n",
    "            bboxs.append((xmin, ymin, xmax, ymax))\n",
    "        elif 150<y_center<200:\n",
    "            xmin, ymin, xmax, ymax = x_center-65, y_center-20,  x_center+30, y_center+200\n",
    "            bboxs.append((xmin, ymin, xmax, ymax))\n",
    "        elif 200<y_center<300:\n",
    "            xmin, ymin, xmax, ymax = x_center-75, y_center-30,  x_center+40, y_center+220\n",
    "            bboxs.append((xmin, ymin, xmax, ymax))\n",
    "        elif 330<y_center<400:\n",
    "            xmin, ymin, xmax, ymax = x_center-75, y_center-30,  x_center+75, y_center+180\n",
    "            bboxs.append((xmin, ymin, xmax, ymax))\n",
    "        elif 400<y_center<460:\n",
    "            xmin, ymin, xmax, ymax = x_center-75, y_center-50,  x_center+60, y_center+150\n",
    "            bboxs.append((xmin, ymin, xmax, ymax))\n",
    "        elif y_center>460:\n",
    "            xmin, ymin, xmax, ymax = x_center-50, y_center-50,  x_center+50, y_center+40   \n",
    "            bboxs.append((xmin, ymin, xmax, ymax))\n",
    "        if draw_is:\n",
    "            draw.rectangle((xmin, ymin, xmax, ymax))\n",
    "        \n",
    "#         plt.title(str(x_center)+' '+str(y_center))\n",
    "#         plt.imshow(img)\n",
    "#         plt.show()\n",
    "        \n",
    "    img.save('datasets/conv/conv_5A/test1_rect/'+image_filename)\n",
    "        \n",
    "    # save annotations in pascal voc format\n",
    "    annotation_folder = 'datasets/conv/conv_5A/test1_annotations/'\n",
    "    f = open(annotation_folder + image_filename[:-4] + '.xml','w')\n",
    "    \n",
    "    line = \"<annotation>\" + '\\n'\n",
    "    f.write(line)\n",
    "        \n",
    "    line = '\\t\\t<folder>' + \"folder\" + '</folder>' + '\\n'\n",
    "    f.write(line)\n",
    "    \n",
    "    line = '\\t\\t<filename>' + image_filename[:-4] + '</filename>' + '\\n'\n",
    "    f.write(line)\n",
    "    \n",
    "    line = '\\t\\t<source>\\n\\t\\t<database>Source</database>\\n\\t</source>\\n'\n",
    "    f.write(line)\n",
    "    \n",
    "    (width, height) = img.size\n",
    "    line = '\\t<size>\\n\\t\\t<width>'+ str(width) + '</width>\\n\\t\\t<height>' + str(height) + '</height>\\n\\t'\n",
    "    line += '\\t<depth>3</depth>\\n\\t</size>'\n",
    "    f.write(line)\n",
    "    \n",
    "    line = '\\n\\t<segmented>Unspecified</segmented>'\n",
    "    f.write(line)\n",
    "    \n",
    "    for bbox in bboxs:\n",
    "        xmin, ymin, xmax, ymax = bbox[0], bbox[1], bbox[2], bbox[3]\n",
    "        line = '\\n\\t<object>'\n",
    "        line += '\\n\\t\\t<name>person</name>\\n\\t\\t<pose>Unspecified</pose>'\n",
    "        line += '\\n\\t\\t<truncated>Unspecified</truncated>\\n\\t\\t<difficult>0</difficult>'\n",
    "\n",
    "        line += '\\n\\t\\t<bndbox>\\n\\t\\t\\t<xmin>' + str(xmin) + '</xmin>'            \n",
    "        line += '\\n\\t\\t\\t<ymin>' + str(ymin) + '</ymin>'\n",
    "        line += '\\n\\t\\t\\t<xmax>' + str(xmax) + '</xmax>'\n",
    "        line += '\\n\\t\\t\\t<ymax>' + str(ymax) + '</ymax>'\n",
    "        line += '\\n\\t\\t</bndbox>'\n",
    "        line += '\\n\\t</object>\\n'     \n",
    "        f.write(line)\n",
    "    \n",
    "    line = \"</annotation>\" + '\\n'\n",
    "    f.write(line)\n",
    "    \n",
    "    f.close()\n",
    "    "
   ]
  },
  {
   "cell_type": "code",
   "execution_count": 97,
   "metadata": {
    "collapsed": false
   },
   "outputs": [],
   "source": [
    "f = open('test.txt','w')\n",
    "\n",
    "for i in with_people.index:\n",
    "    line = image_filenames[i][:-4]+'\\n'    \n",
    "    f.write(line)\n",
    "\n",
    "f.close()"
   ]
  },
  {
   "cell_type": "code",
   "execution_count": null,
   "metadata": {
    "collapsed": true
   },
   "outputs": [],
   "source": [
    "# for conv4a\n",
    "    for x_center, y_center in zip([x1_center, x2_center, x3_center], [y1_center, y2_center, y3_center]):\n",
    "        if 50<y_center<90:\n",
    "            xmin, ymin, xmax, ymax = x_center-30, y_center-15, x_center+15, y_center+110\n",
    "            bboxs.append((xmin, ymin, xmax, ymax))\n",
    "        elif 90<y_center<110:\n",
    "            xmin, ymin, xmax, ymax = x_center-40, y_center-18,  x_center+20, y_center+140\n",
    "            bboxs.append((xmin, ymin, xmax, ymax))\n",
    "        elif 110<y_center<150:\n",
    "            xmin, ymin, xmax, ymax = x_center-55, y_center-20,  x_center+30, y_center+180\n",
    "            bboxs.append((xmin, ymin, xmax, ymax))\n",
    "        elif 150<y_center<200:\n",
    "            xmin, ymin, xmax, ymax = x_center-65, y_center-20,  x_center+40, y_center+220\n",
    "            bboxs.append((xmin, ymin, xmax, ymax))\n",
    "        elif 200<y_center<300:\n",
    "            xmin, ymin, xmax, ymax = x_center-75, y_center-30,  x_center+50, y_center+260\n",
    "            bboxs.append((xmin, ymin, xmax, ymax))\n",
    "        elif 300<y_center<400:\n",
    "            xmin, ymin, xmax, ymax = x_center-75, y_center-30,  x_center+75, y_center+270\n",
    "            bboxs.append((xmin, ymin, xmax, ymax))\n",
    "        elif 400<y_center<500:\n",
    "            xmin, ymin, xmax, ymax = x_center-75, y_center-40,  x_center+60, y_center+300\n",
    "            bboxs.append((xmin, ymin, xmax, ymax))\n",
    "        elif y_center>500:\n",
    "            xmin, ymin, xmax, ymax = x_center-50, y_center-50,  x_center+50, y_center+50   \n",
    "            bboxs.append((xmin, ymin, xmax, ymax))\n",
    "        if draw_is:\n",
    "            draw.rectangle((xmin, ymin, xmax, ymax))"
   ]
  }
 ],
 "metadata": {
  "kernelspec": {
   "display_name": "Python 2",
   "language": "python",
   "name": "python2"
  },
  "language_info": {
   "codemirror_mode": {
    "name": "ipython",
    "version": 2
   },
   "file_extension": ".py",
   "mimetype": "text/x-python",
   "name": "python",
   "nbconvert_exporter": "python",
   "pygments_lexer": "ipython2",
   "version": "2.7.12"
  }
 },
 "nbformat": 4,
 "nbformat_minor": 1
}
