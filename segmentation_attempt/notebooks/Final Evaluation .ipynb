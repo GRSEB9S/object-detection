{
 "cells": [
  {
   "cell_type": "code",
   "execution_count": 1,
   "metadata": {
    "collapsed": true
   },
   "outputs": [],
   "source": [
    "import pandas as pd\n",
    "import matplotlib.pyplot as plt\n",
    "%matplotlib inline \n",
    "\n",
    "from util.util import MyDict, load_params, load_weights_of, compose_imgs, convert_to_rgb, mkdir, get_log_dir\n"
   ]
  },
  {
   "cell_type": "code",
   "execution_count": null,
   "metadata": {
    "collapsed": true
   },
   "outputs": [],
   "source": [
    "params = MyDict({\n",
    "        'results_dir': 'results',  # Directory where to save the results\n",
    "        'log_dir': 'log',  # Directory where the experiment was logged\n",
    "        'base_dir': 'data/unet_segmentations_binary',  # Directory that contains the data\n",
    "        'train_dir': 'train',  # Directory inside base_dir that contains training data\n",
    "        'val_dir': 'val',  # Directory inside base_dir that contains validation data\n",
    "        'test_dir': 'test',  # Directory inside base_dir that contains test data\n",
    "        'load_to_memory': True,  # Whether to load the images into memory\n",
    "        'expt_name': None,  # The name of the experiment to test\n",
    "        'target_size': 512,  # The size of the images loaded by the iterator\n",
    "        'N': 100,  # The number of samples to generate\n",
    "    })\n",
    "\n",
    "\n",
    "params = load_params(params)\n",
    "params = MyDict(params)"
   ]
  },
  {
   "cell_type": "code",
   "execution_count": null,
   "metadata": {
    "collapsed": true
   },
   "outputs": [],
   "source": [
    "unet = m.g_unet(params.a_ch, params.b_ch, params.nfatob, is_binary=params.is_b_binary)\n",
    "load_weights_of(unet, u.ATOB_WEIGHTS_FILE, log_dir=params.log_dir, expt_name=params.expt_name)"
   ]
  },
  {
   "cell_type": "code",
   "execution_count": null,
   "metadata": {
    "collapsed": true
   },
   "outputs": [],
   "source": []
  },
  {
   "cell_type": "code",
   "execution_count": null,
   "metadata": {
    "collapsed": true
   },
   "outputs": [],
   "source": []
  }
 ],
 "metadata": {
  "kernelspec": {
   "display_name": "Python 2",
   "language": "python",
   "name": "python2"
  },
  "language_info": {
   "codemirror_mode": {
    "name": "ipython",
    "version": 2
   },
   "file_extension": ".py",
   "mimetype": "text/x-python",
   "name": "python",
   "nbconvert_exporter": "python",
   "pygments_lexer": "ipython2",
   "version": "2.7.12"
  }
 },
 "nbformat": 4,
 "nbformat_minor": 1
}
